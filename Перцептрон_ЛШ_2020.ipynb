{
  "nbformat": 4,
  "nbformat_minor": 0,
  "metadata": {
    "colab": {
      "name": "Перцептрон_ЛШ_2020.ipynb",
      "provenance": [],
      "collapsed_sections": [],
      "include_colab_link": true
    },
    "kernelspec": {
      "name": "python3",
      "display_name": "Python 3"
    }
  },
  "cells": [
    {
      "cell_type": "markdown",
      "metadata": {
        "id": "view-in-github",
        "colab_type": "text"
      },
      "source": [
        "<a href=\"https://colab.research.google.com/github/Oleg42-prog/Lanit-ANN/blob/master/%D0%9F%D0%B5%D1%80%D1%86%D0%B5%D0%BF%D1%82%D1%80%D0%BE%D0%BD_%D0%9B%D0%A8_2020.ipynb\" target=\"_parent\"><img src=\"https://colab.research.google.com/assets/colab-badge.svg\" alt=\"Open In Colab\"/></a>"
      ]
    },
    {
      "cell_type": "markdown",
      "metadata": {
        "id": "ZQIxVq-ndk-y",
        "colab_type": "text"
      },
      "source": [
        "#Перцептрон\n",
        "![alt text](https://ldapwiki.com/attach/Perceptron/perceptron.jpg)\n",
        "\n",
        "На рисунке представлена класическая схема перцептрона.\n",
        "\n",
        "Как мы узнали из предыдущих статей - модель искусственной нейронной сети была создана по аналогии с мозгом. \n",
        "Единица вычисления в нейронно сети - нейрон (узел). Узел получает входные данные (от внешнего источника или от других узлов), а затем вычисляет выходные данные. \n",
        "Каждый вход дополняется «весом» (w). Значение весов зависит от важности каждого входа. Нейрон применяет функцию f к входным данным. Функция представляет собой сумму произведений веса на соответствующее значение входа + смещение b. Смещение - это вход равный 1, веса смещение также настраиваются во время обучения.\n",
        "\n",
        "Компоненты перцептрона: \n",
        "- входные значения (1, x1, x2, ... \n",
        ", xn);\n",
        "- веса входных значений (w0, w1, w2, ..., wn);\n",
        "- значение нейрона - взвешенная сумма входных значений (1×w0 + x1×w1 + x2×w2 + ... + xn×wn);\n",
        "- функция активации, которая определяет выход нейрона.\n",
        "\n",
        "\n",
        "В классическом перцептроне в качестве функции активации используется пороговая. Вычисленное значение нейрона сравнивается с заданным порогом в функции активации. Если значение больше порога, то выход = 1, иначе - выход = 0.\n",
        "\n",
        "На этапе обучения перцептрона предсказанные значения сравниваются с действительными - таким образом вычисляется ошибка обучения.\n",
        "Значение ошибки далее используется для настройки весов. \n",
        "\n",
        "\n",
        "Скорость обучения (learning rate) - это значение отвечает за то, насколько сильно будут сдвигаться веса. \n",
        "\n",
        "Наша задачи при обучении нейронной сети - подобрать такие значения весов, при которых ошибка (погрешность между предсказанным и действительным) была минимальна. При использовании слишком большой скорости обучения (learning rate) велика вероятность, что необходимое значение может быть пропущено. При использовании слишком низкого значения - время, затрачиваемое на обучение, будет очень долгим.\n",
        "\n",
        "Небольшая статья о перцептронах: https://neurohive.io/ru/osnovy-data-science/perseptron-rozenblatta-mashina-kotoraja-smogla-obuchatsja/\n",
        "\n",
        "Немного про скорость обучения: https://radioprog.ru/post/773\n",
        "\n",
        "\n",
        "\n",
        "\n"
      ]
    },
    {
      "cell_type": "markdown",
      "metadata": {
        "id": "aJDG-0gIdOVr",
        "colab_type": "text"
      },
      "source": [
        "-------------"
      ]
    },
    {
      "cell_type": "markdown",
      "metadata": {
        "id": "yNip17C4G39K",
        "colab_type": "text"
      },
      "source": [
        "#Пример 1"
      ]
    },
    {
      "cell_type": "markdown",
      "metadata": {
        "id": "f_QXg2j_Zk5L",
        "colab_type": "text"
      },
      "source": [
        "##Теперь рассмотрим построение перцептрона на практике. Задача состоит в обучении нейросети выполнять логическую операцию ИЛИ (||)."
      ]
    },
    {
      "cell_type": "markdown",
      "metadata": {
        "id": "LXiqhsXsdTfH",
        "colab_type": "text"
      },
      "source": [
        "Для начала подключим библиотеку для работы с массивами и зададим значения для входных данных."
      ]
    },
    {
      "cell_type": "code",
      "metadata": {
        "id": "enzNQNUTOYWz",
        "colab_type": "code",
        "colab": {}
      },
      "source": [
        "import numpy as np  # подключаем библиотеку\n",
        "from numpy import array, dot, random\n",
        "\n",
        "# X - массив входных значений со всеми возможными вариациями входов для 2ух входных значений\n",
        "X = array([[0,0],\n",
        "            [1,0],\n",
        "            [0,1],\n",
        "            [1,1]])\n",
        "\n",
        "# Y - массив эталонных значений, то есть значения по индексу соответствуют правильному ответу для дизъюнкции 2ух входных значений из массива Х\n",
        "Y = array([0,1,1,1])"
      ],
      "execution_count": null,
      "outputs": []
    },
    {
      "cell_type": "markdown",
      "metadata": {
        "id": "lZtK6fDrdsVT",
        "colab_type": "text"
      },
      "source": [
        "Добавим в массив входных значений смещение (bias)."
      ]
    },
    {
      "cell_type": "code",
      "metadata": {
        "id": "R03-BlbeeOJb",
        "colab_type": "code",
        "colab": {
          "base_uri": "https://localhost:8080/",
          "height": 32
        },
        "outputId": "726db2fa-87f9-4050-9bbd-673f3e5cf52f"
      },
      "source": [
        "# проверим размерность массива\n",
        "x_shape = X.shape\n",
        "x_shape"
      ],
      "execution_count": null,
      "outputs": [
        {
          "output_type": "execute_result",
          "data": {
            "text/plain": [
              "(4, 2)"
            ]
          },
          "metadata": {
            "tags": []
          },
          "execution_count": 14
        }
      ]
    },
    {
      "cell_type": "code",
      "metadata": {
        "id": "uGN6fvzked6R",
        "colab_type": "code",
        "colab": {
          "base_uri": "https://localhost:8080/",
          "height": 82
        },
        "outputId": "0c38c0f0-7cfc-4387-9fe0-09357e056677"
      },
      "source": [
        "# создадим массив со значениями смещений\n",
        "arr_bias = np.ones((x_shape[0],1), dtype=int)\n",
        "arr_bias"
      ],
      "execution_count": null,
      "outputs": [
        {
          "output_type": "execute_result",
          "data": {
            "text/plain": [
              "array([[1],\n",
              "       [1],\n",
              "       [1],\n",
              "       [1]])"
            ]
          },
          "metadata": {
            "tags": []
          },
          "execution_count": 15
        }
      ]
    },
    {
      "cell_type": "code",
      "metadata": {
        "id": "Q0TdK9JQeRnh",
        "colab_type": "code",
        "colab": {
          "base_uri": "https://localhost:8080/",
          "height": 82
        },
        "outputId": "46c87fcb-fce9-48c4-d53f-11517167e79f"
      },
      "source": [
        "# добавим к массиву входных значений массив смещений\n",
        "X = np.append(X, arr_bias, axis=1)\n",
        "X"
      ],
      "execution_count": null,
      "outputs": [
        {
          "output_type": "execute_result",
          "data": {
            "text/plain": [
              "array([[0, 0, 1],\n",
              "       [1, 0, 1],\n",
              "       [0, 1, 1],\n",
              "       [1, 1, 1]])"
            ]
          },
          "metadata": {
            "tags": []
          },
          "execution_count": 16
        }
      ]
    },
    {
      "cell_type": "code",
      "metadata": {
        "id": "x1uTnZi1_z9X",
        "colab_type": "code",
        "colab": {
          "base_uri": "https://localhost:8080/",
          "height": 32
        },
        "outputId": "bd3aa0ad-958a-4164-b79c-26c78ae022d8"
      },
      "source": [
        "# W - рандомные начальные значения весов для входных значений\n",
        "W = random.rand(3)\n",
        "W"
      ],
      "execution_count": null,
      "outputs": [
        {
          "output_type": "execute_result",
          "data": {
            "text/plain": [
              "array([0.01086812, 0.57914304, 0.1841605 ])"
            ]
          },
          "metadata": {
            "tags": []
          },
          "execution_count": 17
        }
      ]
    },
    {
      "cell_type": "markdown",
      "metadata": {
        "id": "O9tNOC1ciOd4",
        "colab_type": "text"
      },
      "source": [
        "Начнем реализацию алгоритма для построения и обучения перцептрона"
      ]
    },
    {
      "cell_type": "code",
      "metadata": {
        "id": "1E-86PjWMtEQ",
        "colab_type": "code",
        "colab": {
          "base_uri": "https://localhost:8080/",
          "height": 32
        },
        "outputId": "4867194f-ebbc-46b8-999c-1f69d751e8b8"
      },
      "source": [
        "# функция активации\n",
        "activate = lambda sum: 0 if sum < 0 else 1\n",
        "\n",
        "# скорость обучения\n",
        "lr = 2e-1 \n",
        "# количество итераций обучения\n",
        "N = 200\n",
        "\n",
        "for i in range(N):\n",
        "    # рандомное число от 0 до 3 для определения индекса примера из массива Х\n",
        "    rndm = random.randint(4)\n",
        "    # присвоение значения переменной по сгенерированному индексу\n",
        "    element_x = X[rndm]\n",
        "    expected = Y[rndm]\n",
        "    # произведение входного значения (Х) на вес (W)\n",
        "    result = dot(W, element_x)\n",
        "    # вычисление ошибки \n",
        "    error = expected - activate(result)\n",
        "    # изменение весов\n",
        "    for i in range(len(W)):\n",
        "        W[i] += lr * error * element_x[i]\n",
        "print(W)"
      ],
      "execution_count": null,
      "outputs": [
        {
          "output_type": "stream",
          "text": [
            "[ 0.21086812  0.57914304 -0.0158395 ]\n"
          ],
          "name": "stdout"
        }
      ]
    },
    {
      "cell_type": "markdown",
      "metadata": {
        "id": "MVEhlnswVo5q",
        "colab_type": "text"
      },
      "source": [
        "Тестирование"
      ]
    },
    {
      "cell_type": "code",
      "metadata": {
        "id": "fnFZ4rI9-FwL",
        "colab_type": "code",
        "colab": {
          "base_uri": "https://localhost:8080/",
          "height": 82
        },
        "outputId": "0ccc5ddb-3fad-4a7c-9ddc-c48ef3fb5a5c"
      },
      "source": [
        "# вывод результата тренировки\n",
        "for element_x in X:\n",
        "    result = dot(element_x, W)\n",
        "    print(\"{}: {} -> {}\".format(element_x[:2], result, activate(result)))\n"
      ],
      "execution_count": null,
      "outputs": [
        {
          "output_type": "stream",
          "text": [
            "[0 0]: -0.015839496953599264 -> 0\n",
            "[1 0]: 0.1950286240502611 -> 1\n",
            "[0 1]: 0.5633035441194865 -> 1\n",
            "[1 1]: 0.7741716651233468 -> 1\n"
          ],
          "name": "stdout"
        }
      ]
    },
    {
      "cell_type": "markdown",
      "metadata": {
        "id": "958IhLP1Gcok",
        "colab_type": "text"
      },
      "source": [
        "#Самостоятельное задание 1.\n",
        "##Написать аналогичный алгоритм для решения операции логического И (&)."
      ]
    },
    {
      "cell_type": "code",
      "metadata": {
        "id": "QgXARCgOLDH7",
        "colab_type": "code",
        "colab": {}
      },
      "source": [
        "# решение"
      ],
      "execution_count": null,
      "outputs": []
    },
    {
      "cell_type": "markdown",
      "metadata": {
        "id": "JngRQdTHKXmx",
        "colab_type": "text"
      },
      "source": [
        "#Самостоятельное задание 2.\n",
        "##Написать алгоритм для обучения перцептрона возводить в квадрат.\n",
        "*то есть на вход будет подаваться число S и на выходе должно получиться Sˆ2."
      ]
    },
    {
      "cell_type": "code",
      "metadata": {
        "id": "cM14bgHoLevP",
        "colab_type": "code",
        "colab": {}
      },
      "source": [
        "# решение"
      ],
      "execution_count": null,
      "outputs": []
    }
  ]
}